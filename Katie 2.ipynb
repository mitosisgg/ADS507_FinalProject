{
 "cells": [
  {
   "cell_type": "markdown",
   "metadata": {},
   "source": [
    "Problems:\n",
    "\n",
    "Have spent five hours on this today alone. I can't seem to get dotenv to load? That's the first hurdle, and everything else stems from there.\n",
    "\n",
    "If I go a slightly different route, I can at least get the tables created...but then I can't populate them with the data.\n",
    "\n",
    "Any help is greatly appreciated. As for the bottom piece of code, that came from a YouTube video, and it doesn't do anything. Neither does \"BULK INSERT\"\n",
    "\n",
    "I'm really, really, really frustrated. I'm sorry, guys, I'm doing the best I can and it's just not good enough."
   ]
  },
  {
   "cell_type": "code",
   "execution_count": null,
   "metadata": {},
   "outputs": [],
   "source": [
    "#Import necessary tools and ignore warnings\n",
    "import pandas as pd\n",
    "import pymysql as mysql\n",
    "from sqlalchemy import create_engine\n",
    "import warnings\n",
    "warnings.filterwarnings('ignore')\n",
    "from mysql.connector import connect\n",
    "import os\n",
    "import mysql.connector\n",
    "from dotenv import load_dotenv\n",
    "\n",
    "load_dotenv()\n",
    "\n",
    "DB_HOST = os.getenv(\"DB_HOST\")\n",
    "DB_USERNAME = os.getenv(\"DB_USERNAME\")\n",
    "DB_PASSWORD = os.getenv(\"DB_PASSWORD\")\n",
    "DB_NAME = os.getenv(\"DB_NAME\")\n",
    "\n",
    "connection = mysql.connector.connect(\n",
    "    host=DB_HOST,\n",
    "    user=DB_USERNAME,\n",
    "    password=DB_PASSWORD,\n",
    "    database=DB_NAME,\n",
    "    ssl_verify_identity=True,\n",
    "    ssl_ca=\"ca.pem\",\n",
    "    ssl_cert =\"server-cert.pem\",\n",
    "    ssl_key=\"server-key.pem\"\n",
    ")\n",
    "\n",
    "print(\"Connected to the database\")"
   ]
  },
  {
   "cell_type": "code",
   "execution_count": 10,
   "metadata": {},
   "outputs": [],
   "source": [
    "# Converting source data files from .dta to .csv format\n",
    "data=pd.read_stata(\"/Users/katherinekimberling/Desktop/harvard_trade_data/services_unilateral_country_product_year_1.dta\")\n",
    "data.to_csv(\"/Users/katherinekimberling/Desktop/harvard_trade_data/services_unilateral_country_product_year_1.csv\")\n",
    "\n",
    "data=pd.read_stata(\"/Users/katherinekimberling/Desktop/harvard_trade_data/services_unilateral_country_product_year_2.dta\")\n",
    "data.to_csv(\"/Users/katherinekimberling/Desktop/harvard_trade_data/services_unilateral_country_product_year_2.csv\")\n",
    "\n",
    "data=pd.read_stata(\"/Users/katherinekimberling/Desktop/harvard_trade_data/services_unilateral_country_product_year_4.dta\")\n",
    "data.to_csv(\"/Users/katherinekimberling/Desktop/harvard_trade_data/services_unilateral_country_product_year_4.csv\")\n",
    "\n",
    "data=pd.read_stata(\"/Users/katherinekimberling/Desktop/harvard_trade_data/services_unilateral_country_product_year_6.dta\")\n",
    "data.to_csv(\"/Users/katherinekimberling/Desktop/harvard_trade_data/services_unilateral_country_product_year_6.csv\")\n"
   ]
  },
  {
   "cell_type": "code",
   "execution_count": null,
   "metadata": {},
   "outputs": [],
   "source": [
    "#Create cursor, used to send commands over to the database and retrieve data when requested.\n",
    "config = {\n",
    "    \"user\": \"DB_USERNAME\",\n",
    "    \"password\": \"DB_PASSWORD\",\n",
    "    \"host\": \"DB_HOST\",\n",
    "    \"database\": \"DB_NAME\",\n",
    "}\n",
    "\n",
    "connection = connect(**config)\n",
    "cursor = connection.cursor()"
   ]
  },
  {
   "cell_type": "code",
   "execution_count": null,
   "metadata": {},
   "outputs": [],
   "source": [
    "cursor = connection.cursor()\n",
    "query = (\"\"\"CREATE TABLE country (\n",
    "\tcountry_id INT NOT NULL,\n",
    "\tcountry_name VARCHAR (60),\n",
    "\tiso3_code VARCHAR(3),\n",
    "\tlegacy_location_id INT,\n",
    "\tPRIMARY KEY (country_id))\n",
    "    \"\"\")\n",
    "cursor.execute(query)\n",
    "results = cursor.fetchall()\n",
    "df = pd.DataFrame(results)\n",
    "df"
   ]
  },
  {
   "cell_type": "code",
   "execution_count": null,
   "metadata": {},
   "outputs": [],
   "source": [
    "cursor = connection.cursor()\n",
    "query = (\"\"\"CREATE TABLE product (\n",
    "\tproduct_id INT NOT NULL,\n",
    "\tproduct_code TEXT,\n",
    "\tproduct_name VARCHAR(255),\n",
    "\tproduct_level INT,\n",
    "    top_parent_id INT,\n",
    "    product_hierarchy TEXT,\n",
    "\tPRIMARY KEY (product_id))\n",
    "    \"\"\")\n",
    "cursor.execute(query)\n",
    "results = cursor.fetchall()\n",
    "df = pd.DataFrame(results)\n",
    "df"
   ]
  },
  {
   "cell_type": "code",
   "execution_count": 34,
   "metadata": {},
   "outputs": [
    {
     "data": {
      "text/html": [
       "<div>\n",
       "<style scoped>\n",
       "    .dataframe tbody tr th:only-of-type {\n",
       "        vertical-align: middle;\n",
       "    }\n",
       "\n",
       "    .dataframe tbody tr th {\n",
       "        vertical-align: top;\n",
       "    }\n",
       "\n",
       "    .dataframe thead th {\n",
       "        text-align: right;\n",
       "    }\n",
       "</style>\n",
       "<table border=\"1\" class=\"dataframe\">\n",
       "  <thead>\n",
       "    <tr style=\"text-align: right;\">\n",
       "      <th></th>\n",
       "    </tr>\n",
       "  </thead>\n",
       "  <tbody>\n",
       "  </tbody>\n",
       "</table>\n",
       "</div>"
      ],
      "text/plain": [
       "Empty DataFrame\n",
       "Columns: []\n",
       "Index: []"
      ]
     },
     "execution_count": 34,
     "metadata": {},
     "output_type": "execute_result"
    }
   ],
   "source": [
    "cursor = connection.cursor()\n",
    "query = (\"\"\"CREATE TABLE all_services (\n",
    "\tcountry_id INT NOT NULL,\n",
    "    product_id INT,\n",
    "\tdate INT,\n",
    "    export_value DOUBLE PRECISION,\n",
    "    import_value DOUBLE PRECISION,\n",
    "    global_market_share DOUBLE PRECISION,\n",
    "    pci DOUBLE PRECISION,\n",
    "    number INT NOT NULL AUTO_INCREMENT,\n",
    "\tPRIMARY KEY (number))\n",
    "    \"\"\")\n",
    "cursor.execute(query)\n",
    "results = cursor.fetchall()\n",
    "df = pd.DataFrame(results)\n",
    "df"
   ]
  },
  {
   "cell_type": "code",
   "execution_count": 50,
   "metadata": {},
   "outputs": [
    {
     "name": "stdout",
     "output_type": "stream",
     "text": [
      "  Tables_in_harvard_db\n",
      "0         all_services\n",
      "1              country\n",
      "2              product\n"
     ]
    }
   ],
   "source": [
    "df=pd.read_sql_query(\"Show Tables \", connection)\n",
    "\n",
    "print (df)"
   ]
  },
  {
   "cell_type": "code",
   "execution_count": null,
   "metadata": {},
   "outputs": [],
   "source": [
    "# Iterate over the rows in the csv file for the table country\n",
    "import csv\n",
    "\n",
    "with open (\"/Users/katherinekimberling/Library/Mobile Documents/com~apple~CloudDocs/PERSONAL/USD MADS/ADS 507 Practical Data Engineering/Final Team Project/Source Data/harvard_trade_data/location_country.csv\", 'r') as country:\n",
    "    # Create a csv reader object\n",
    "    reader = csv.reader(country)\n",
    "for row in reader:\n",
    "\n",
    "# Insert the data into the MySQL table\n",
    "\n",
    "    cursor.execute('INSERT INTO country (country_id, country_name, iso3_code, legacy_location_id) VALUES (%s, %s, %s, %s), row')\n",
    "conn.commit()"
   ]
  }
 ],
 "metadata": {
  "kernelspec": {
   "display_name": "Python 3",
   "language": "python",
   "name": "python3"
  },
  "language_info": {
   "codemirror_mode": {
    "name": "ipython",
    "version": 3
   },
   "file_extension": ".py",
   "mimetype": "text/x-python",
   "name": "python",
   "nbconvert_exporter": "python",
   "pygments_lexer": "ipython3",
   "version": "3.13.0"
  }
 },
 "nbformat": 4,
 "nbformat_minor": 2
}
