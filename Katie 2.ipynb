{
 "cells": [
  {
   "cell_type": "markdown",
   "metadata": {},
   "source": []
  },
  {
   "cell_type": "markdown",
   "metadata": {},
   "source": []
  },
  {
   "cell_type": "markdown",
   "metadata": {},
   "source": []
  },
  {
   "cell_type": "code",
   "execution_count": 4,
   "metadata": {},
   "outputs": [
    {
     "ename": "ModuleNotFoundError",
     "evalue": "No module named 'dotenv'",
     "output_type": "error",
     "traceback": [
      "\u001b[0;31m---------------------------------------------------------------------------\u001b[0m",
      "\u001b[0;31mModuleNotFoundError\u001b[0m                       Traceback (most recent call last)",
      "Cell \u001b[0;32mIn[4], line 8\u001b[0m\n\u001b[1;32m      6\u001b[0m \u001b[38;5;28;01mimport\u001b[39;00m\u001b[38;5;250m \u001b[39m\u001b[38;5;21;01mos\u001b[39;00m\n\u001b[1;32m      7\u001b[0m \u001b[38;5;28;01mimport\u001b[39;00m\u001b[38;5;250m \u001b[39m\u001b[38;5;21;01mmysql\u001b[39;00m\u001b[38;5;21;01m.\u001b[39;00m\u001b[38;5;21;01mconnector\u001b[39;00m\n\u001b[0;32m----> 8\u001b[0m \u001b[38;5;28;01mfrom\u001b[39;00m\u001b[38;5;250m \u001b[39m\u001b[38;5;21;01mdotenv\u001b[39;00m\u001b[38;5;250m \u001b[39m\u001b[38;5;28;01mimport\u001b[39;00m load_dotenv\n\u001b[1;32m     10\u001b[0m load_dotenv()\n\u001b[1;32m     14\u001b[0m connection \u001b[38;5;241m=\u001b[39m mysql\u001b[38;5;241m.\u001b[39mconnector\u001b[38;5;241m.\u001b[39mconnect(\n\u001b[1;32m     15\u001b[0m     host\u001b[38;5;241m=\u001b[39mDB_HOST,\n\u001b[1;32m     16\u001b[0m     user\u001b[38;5;241m=\u001b[39mDB_USERNAME,\n\u001b[0;32m   (...)\u001b[0m\n\u001b[1;32m     22\u001b[0m     ssl_key\u001b[38;5;241m=\u001b[39m\u001b[38;5;124m\"\u001b[39m\u001b[38;5;124mserver-key.pem\u001b[39m\u001b[38;5;124m\"\u001b[39m\n\u001b[1;32m     23\u001b[0m )\n",
      "\u001b[0;31mModuleNotFoundError\u001b[0m: No module named 'dotenv'"
     ]
    }
   ],
   "source": [
    "DB_HOST = os.getenv(\"DB_HOST\")\n",
    "DB_USERNAME = os.getenv(\"DB_USERNAME\")\n",
    "DB_PASSWORD = os.getenv(\"DB_PASSWORD\")\n",
    "DB_NAME = os.getenv(\"DB_NAME\")\n",
    "\n",
    "import os\n",
    "import mysql.connector\n",
    "from dotenv import load_dotenv\n",
    "\n",
    "load_dotenv()\n",
    "\n",
    "\n",
    "\n",
    "connection = mysql.connector.connect(\n",
    "    host=DB_HOST,\n",
    "    user=DB_USERNAME,\n",
    "    password=DB_PASSWORD,\n",
    "    database=DB_NAME,\n",
    "    ssl_verify_identity=True,\n",
    "    ssl_ca=\"ca.pem\",\n",
    "    ssl_cert =\"server-cert.pem\",\n",
    "    ssl_key=\"server-key.pem\"\n",
    ")\n",
    "\n",
    "print(\"Connected to the database\")"
   ]
  },
  {
   "cell_type": "code",
   "execution_count": 1,
   "metadata": {},
   "outputs": [],
   "source": [
    "#Import necessary tools and ignore warnings\n",
    "import pandas as pd\n",
    "import pymysql as mysql\n",
    "from sqlalchemy import create_engine\n",
    "from mysql.connector import connect\n",
    "import warnings\n",
    "warnings.filterwarnings('ignore')\n",
    "\n",
    "# Connect to MySQL database\n",
    "config = {\n",
    "    \"user\": \"root\",\n",
    "    \"password\": \"lukabrasi\",\n",
    "    \"host\": \"localhost\",\n",
    "    \"database\": \"harvard_db\",\n",
    "}\n",
    "\n",
    "connection = connect(**config)\n",
    "\n"
   ]
  },
  {
   "cell_type": "code",
   "execution_count": 2,
   "metadata": {},
   "outputs": [],
   "source": [
    "# Converting source data files from .dta to .csv format\n",
    "data=pd.read_stata(\"/Users/katherinekimberling/Desktop/harvard_trade_data/services_unilateral_country_product_year_1.dta\")\n",
    "data.to_csv(\"/Users/katherinekimberling/Desktop/harvard_trade_data/services_unilateral_country_product_year_1.csv\")\n",
    "\n",
    "data=pd.read_stata(\"/Users/katherinekimberling/Desktop/harvard_trade_data/services_unilateral_country_product_year_2.dta\")\n",
    "data.to_csv(\"/Users/katherinekimberling/Desktop/harvard_trade_data/services_unilateral_country_product_year_2.csv\")\n",
    "\n",
    "data=pd.read_stata(\"/Users/katherinekimberling/Desktop/harvard_trade_data/services_unilateral_country_product_year_4.dta\")\n",
    "data.to_csv(\"/Users/katherinekimberling/Desktop/harvard_trade_data/services_unilateral_country_product_year_4.csv\")\n",
    "\n",
    "data=pd.read_stata(\"/Users/katherinekimberling/Desktop/harvard_trade_data/services_unilateral_country_product_year_6.dta\")\n",
    "data.to_csv(\"/Users/katherinekimberling/Desktop/harvard_trade_data/services_unilateral_country_product_year_6.csv\")\n"
   ]
  },
  {
   "cell_type": "code",
   "execution_count": 3,
   "metadata": {},
   "outputs": [],
   "source": [
    "#Create cursor, used to send commands over to the database and retrieve data when requested.\n",
    "cursor = connection.cursor()"
   ]
  },
  {
   "cell_type": "code",
   "execution_count": null,
   "metadata": {},
   "outputs": [],
   "source": [
    "cursor = conn.cursor()\n",
    "query = (\"\"\"CREATE TABLE country (\n",
    "\tcountry_id INT NOT NULL,\n",
    "\tcountry_name VARCHAR (60),\n",
    "\tiso3_code VARCHAR(3),\n",
    "\tlegacy_location_id INT,\n",
    "\tPRIMARY KEY (country_id))\n",
    "    \"\"\")\n",
    "cursor.execute(query)\n",
    "results = cursor.fetchall()\n",
    "df = pd.DataFrame(results)\n",
    "df"
   ]
  },
  {
   "cell_type": "code",
   "execution_count": 26,
   "metadata": {},
   "outputs": [
    {
     "data": {
      "text/html": [
       "<div>\n",
       "<style scoped>\n",
       "    .dataframe tbody tr th:only-of-type {\n",
       "        vertical-align: middle;\n",
       "    }\n",
       "\n",
       "    .dataframe tbody tr th {\n",
       "        vertical-align: top;\n",
       "    }\n",
       "\n",
       "    .dataframe thead th {\n",
       "        text-align: right;\n",
       "    }\n",
       "</style>\n",
       "<table border=\"1\" class=\"dataframe\">\n",
       "  <thead>\n",
       "    <tr style=\"text-align: right;\">\n",
       "      <th></th>\n",
       "    </tr>\n",
       "  </thead>\n",
       "  <tbody>\n",
       "  </tbody>\n",
       "</table>\n",
       "</div>"
      ],
      "text/plain": [
       "Empty DataFrame\n",
       "Columns: []\n",
       "Index: []"
      ]
     },
     "execution_count": 26,
     "metadata": {},
     "output_type": "execute_result"
    }
   ],
   "source": [
    "cursor = conn.cursor()\n",
    "query = (\"\"\"CREATE TABLE product (\n",
    "\tproduct_id INT NOT NULL,\n",
    "\tproduct_code TEXT,\n",
    "\tproduct_name VARCHAR(255),\n",
    "\tproduct_level INT,\n",
    "    top_parent_id INT,\n",
    "    product_hierarchy TEXT,\n",
    "\tPRIMARY KEY (product_id))\n",
    "    \"\"\")\n",
    "cursor.execute(query)\n",
    "results = cursor.fetchall()\n",
    "df = pd.DataFrame(results)\n",
    "df"
   ]
  },
  {
   "cell_type": "code",
   "execution_count": 34,
   "metadata": {},
   "outputs": [
    {
     "data": {
      "text/html": [
       "<div>\n",
       "<style scoped>\n",
       "    .dataframe tbody tr th:only-of-type {\n",
       "        vertical-align: middle;\n",
       "    }\n",
       "\n",
       "    .dataframe tbody tr th {\n",
       "        vertical-align: top;\n",
       "    }\n",
       "\n",
       "    .dataframe thead th {\n",
       "        text-align: right;\n",
       "    }\n",
       "</style>\n",
       "<table border=\"1\" class=\"dataframe\">\n",
       "  <thead>\n",
       "    <tr style=\"text-align: right;\">\n",
       "      <th></th>\n",
       "    </tr>\n",
       "  </thead>\n",
       "  <tbody>\n",
       "  </tbody>\n",
       "</table>\n",
       "</div>"
      ],
      "text/plain": [
       "Empty DataFrame\n",
       "Columns: []\n",
       "Index: []"
      ]
     },
     "execution_count": 34,
     "metadata": {},
     "output_type": "execute_result"
    }
   ],
   "source": [
    "cursor = conn.cursor()\n",
    "query = (\"\"\"CREATE TABLE all_services (\n",
    "\tcountry_id INT NOT NULL,\n",
    "    product_id INT,\n",
    "\tdate INT,\n",
    "    export_value DOUBLE PRECISION,\n",
    "    import_value DOUBLE PRECISION,\n",
    "    global_market_share DOUBLE PRECISION,\n",
    "    pci DOUBLE PRECISION,\n",
    "    number INT NOT NULL AUTO_INCREMENT,\n",
    "\tPRIMARY KEY (number))\n",
    "    \"\"\")\n",
    "cursor.execute(query)\n",
    "results = cursor.fetchall()\n",
    "df = pd.DataFrame(results)\n",
    "df"
   ]
  },
  {
   "cell_type": "code",
   "execution_count": 50,
   "metadata": {},
   "outputs": [
    {
     "name": "stdout",
     "output_type": "stream",
     "text": [
      "  Tables_in_harvard_db\n",
      "0         all_services\n",
      "1              country\n",
      "2              product\n"
     ]
    }
   ],
   "source": [
    "df=pd.read_sql_query(\"Show Tables \", conn)\n",
    "\n",
    "print (df)"
   ]
  },
  {
   "cell_type": "code",
   "execution_count": 51,
   "metadata": {},
   "outputs": [
    {
     "ename": "ValueError",
     "evalue": "I/O operation on closed file.",
     "output_type": "error",
     "traceback": [
      "\u001b[0;31m---------------------------------------------------------------------------\u001b[0m",
      "\u001b[0;31mValueError\u001b[0m                                Traceback (most recent call last)",
      "Cell \u001b[0;32mIn[51], line 7\u001b[0m\n\u001b[1;32m      4\u001b[0m \u001b[38;5;28;01mwith\u001b[39;00m \u001b[38;5;28mopen\u001b[39m (\u001b[38;5;124m\"\u001b[39m\u001b[38;5;124m/Users/katherinekimberling/Library/Mobile Documents/com~apple~CloudDocs/PERSONAL/USD MADS/ADS 507 Practical Data Engineering/Final Team Project/Source Data/harvard_trade_data/location_country.csv\u001b[39m\u001b[38;5;124m\"\u001b[39m, \u001b[38;5;124m'\u001b[39m\u001b[38;5;124mr\u001b[39m\u001b[38;5;124m'\u001b[39m) \u001b[38;5;28;01mas\u001b[39;00m country:\n\u001b[1;32m      5\u001b[0m     \u001b[38;5;66;03m# Create a csv reader object\u001b[39;00m\n\u001b[1;32m      6\u001b[0m     reader \u001b[38;5;241m=\u001b[39m csv\u001b[38;5;241m.\u001b[39mreader(country)\n\u001b[0;32m----> 7\u001b[0m \u001b[38;5;28;43;01mfor\u001b[39;49;00m\u001b[43m \u001b[49m\u001b[43mrow\u001b[49m\u001b[43m \u001b[49m\u001b[38;5;129;43;01min\u001b[39;49;00m\u001b[43m \u001b[49m\u001b[43mreader\u001b[49m\u001b[43m:\u001b[49m\n\u001b[1;32m      8\u001b[0m \n\u001b[1;32m      9\u001b[0m \u001b[38;5;66;43;03m# Insert the data into the MySQL table\u001b[39;49;00m\n\u001b[1;32m     11\u001b[0m \u001b[43m    \u001b[49m\u001b[43mcursor\u001b[49m\u001b[38;5;241;43m.\u001b[39;49m\u001b[43mexecute\u001b[49m\u001b[43m(\u001b[49m\u001b[38;5;124;43m'\u001b[39;49m\u001b[38;5;124;43mINSERT INTO country (country_id, country_name, iso3_code, legacy_location_id) VALUES (\u001b[39;49m\u001b[38;5;132;43;01m%s\u001b[39;49;00m\u001b[38;5;124;43m, \u001b[39;49m\u001b[38;5;132;43;01m%s\u001b[39;49;00m\u001b[38;5;124;43m, \u001b[39;49m\u001b[38;5;132;43;01m%s\u001b[39;49;00m\u001b[38;5;124;43m, \u001b[39;49m\u001b[38;5;132;43;01m%s\u001b[39;49;00m\u001b[38;5;124;43m), row\u001b[39;49m\u001b[38;5;124;43m'\u001b[39;49m\u001b[43m)\u001b[49m\n\u001b[1;32m     12\u001b[0m conn\u001b[38;5;241m.\u001b[39mcommit()\n",
      "\u001b[0;31mValueError\u001b[0m: I/O operation on closed file."
     ]
    }
   ],
   "source": [
    "# Iterate over the rows in the csv file for the table country\n",
    "import csv\n",
    "\n",
    "with open (\"/Users/katherinekimberling/Library/Mobile Documents/com~apple~CloudDocs/PERSONAL/USD MADS/ADS 507 Practical Data Engineering/Final Team Project/Source Data/harvard_trade_data/location_country.csv\", 'r') as country:\n",
    "    # Create a csv reader object\n",
    "    reader = csv.reader(country)\n",
    "for row in reader:\n",
    "\n",
    "# Insert the data into the MySQL table\n",
    "\n",
    "    cursor.execute('INSERT INTO country (country_id, country_name, iso3_code, legacy_location_id) VALUES (%s, %s, %s, %s), row')\n",
    "conn.commit()"
   ]
  }
 ],
 "metadata": {
  "kernelspec": {
   "display_name": "Python 3",
   "language": "python",
   "name": "python3"
  },
  "language_info": {
   "codemirror_mode": {
    "name": "ipython",
    "version": 3
   },
   "file_extension": ".py",
   "mimetype": "text/x-python",
   "name": "python",
   "nbconvert_exporter": "python",
   "pygments_lexer": "ipython3",
   "version": "3.13.0"
  }
 },
 "nbformat": 4,
 "nbformat_minor": 2
}
